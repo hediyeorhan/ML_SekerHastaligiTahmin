{
 "cells": [
  {
   "cell_type": "code",
   "execution_count": 204,
   "metadata": {},
   "outputs": [],
   "source": [
    "#Gerekli kütüphaneleri import ediyoruz\n",
    "\n",
    "import pandas as pd\n",
    "import numpy as np\n",
    "\n",
    "from sklearn.model_selection import train_test_split, GridSearchCV,cross_val_score\n",
    "from sklearn.metrics import mean_squared_error, r2_score, confusion_matrix\n",
    "from sklearn import model_selection\n",
    "\n",
    "#CLASSIFIER\n",
    "from sklearn.linear_model import LogisticRegression\n",
    "from sklearn.neighbors import KNeighborsClassifier\n",
    "from sklearn.svm import SVC\n",
    "from sklearn.neural_network import MLPClassifier\n",
    "from sklearn.tree import DecisionTreeClassifier\n",
    "from sklearn.ensemble import RandomForestClassifier\n",
    "from sklearn.ensemble import GradientBoostingClassifier\n",
    "from xgboost import XGBClassifier\n",
    "from lightgbm import LGBMClassifier\n",
    "from catboost import CatBoostClassifier\n",
    "\n",
    "#TKINTER\n",
    "from tkinter import *\n",
    "from tkinter import messagebox\n",
    "from tkinter import filedialog\n",
    "from tkinter.ttk import Combobox\n",
    "from tkinter import messagebox\n",
    "from tkinter import Canvas\n",
    "from tkinter import ttk\n",
    "\n",
    "from sklearn.linear_model import Ridge "
   ]
  },
  {
   "cell_type": "code",
   "execution_count": 4,
   "metadata": {},
   "outputs": [],
   "source": [
    "from sklearn import preprocessing \n",
    "le = preprocessing.LabelEncoder()"
   ]
  },
  {
   "cell_type": "code",
   "execution_count": 5,
   "metadata": {},
   "outputs": [],
   "source": [
    "data = pd.read_csv(\"diabetes.csv\")"
   ]
  },
  {
   "cell_type": "code",
   "execution_count": 6,
   "metadata": {},
   "outputs": [],
   "source": [
    "df = data.copy()"
   ]
  },
  {
   "cell_type": "code",
   "execution_count": 7,
   "metadata": {},
   "outputs": [
    {
     "name": "stdout",
     "output_type": "stream",
     "text": [
      "<class 'pandas.core.frame.DataFrame'>\n",
      "RangeIndex: 768 entries, 0 to 767\n",
      "Data columns (total 9 columns):\n",
      " #   Column                    Non-Null Count  Dtype  \n",
      "---  ------                    --------------  -----  \n",
      " 0   Pregnancies               768 non-null    int64  \n",
      " 1   Glucose                   768 non-null    int64  \n",
      " 2   BloodPressure             768 non-null    int64  \n",
      " 3   SkinThickness             768 non-null    int64  \n",
      " 4   Insulin                   768 non-null    int64  \n",
      " 5   BMI                       768 non-null    float64\n",
      " 6   DiabetesPedigreeFunction  768 non-null    float64\n",
      " 7   Age                       768 non-null    int64  \n",
      " 8   Outcome                   768 non-null    int64  \n",
      "dtypes: float64(2), int64(7)\n",
      "memory usage: 54.1 KB\n"
     ]
    }
   ],
   "source": [
    "df.info()"
   ]
  },
  {
   "cell_type": "code",
   "execution_count": 8,
   "metadata": {},
   "outputs": [
    {
     "data": {
      "text/html": [
       "<div>\n",
       "<style scoped>\n",
       "    .dataframe tbody tr th:only-of-type {\n",
       "        vertical-align: middle;\n",
       "    }\n",
       "\n",
       "    .dataframe tbody tr th {\n",
       "        vertical-align: top;\n",
       "    }\n",
       "\n",
       "    .dataframe thead th {\n",
       "        text-align: right;\n",
       "    }\n",
       "</style>\n",
       "<table border=\"1\" class=\"dataframe\">\n",
       "  <thead>\n",
       "    <tr style=\"text-align: right;\">\n",
       "      <th></th>\n",
       "      <th>Pregnancies</th>\n",
       "      <th>Glucose</th>\n",
       "      <th>BloodPressure</th>\n",
       "      <th>SkinThickness</th>\n",
       "      <th>Insulin</th>\n",
       "      <th>BMI</th>\n",
       "      <th>DiabetesPedigreeFunction</th>\n",
       "      <th>Age</th>\n",
       "      <th>Outcome</th>\n",
       "    </tr>\n",
       "  </thead>\n",
       "  <tbody>\n",
       "    <tr>\n",
       "      <th>0</th>\n",
       "      <td>6</td>\n",
       "      <td>148</td>\n",
       "      <td>72</td>\n",
       "      <td>35</td>\n",
       "      <td>0</td>\n",
       "      <td>33.6</td>\n",
       "      <td>0.627</td>\n",
       "      <td>50</td>\n",
       "      <td>1</td>\n",
       "    </tr>\n",
       "    <tr>\n",
       "      <th>1</th>\n",
       "      <td>1</td>\n",
       "      <td>85</td>\n",
       "      <td>66</td>\n",
       "      <td>29</td>\n",
       "      <td>0</td>\n",
       "      <td>26.6</td>\n",
       "      <td>0.351</td>\n",
       "      <td>31</td>\n",
       "      <td>0</td>\n",
       "    </tr>\n",
       "    <tr>\n",
       "      <th>2</th>\n",
       "      <td>8</td>\n",
       "      <td>183</td>\n",
       "      <td>64</td>\n",
       "      <td>0</td>\n",
       "      <td>0</td>\n",
       "      <td>23.3</td>\n",
       "      <td>0.672</td>\n",
       "      <td>32</td>\n",
       "      <td>1</td>\n",
       "    </tr>\n",
       "    <tr>\n",
       "      <th>3</th>\n",
       "      <td>1</td>\n",
       "      <td>89</td>\n",
       "      <td>66</td>\n",
       "      <td>23</td>\n",
       "      <td>94</td>\n",
       "      <td>28.1</td>\n",
       "      <td>0.167</td>\n",
       "      <td>21</td>\n",
       "      <td>0</td>\n",
       "    </tr>\n",
       "    <tr>\n",
       "      <th>4</th>\n",
       "      <td>0</td>\n",
       "      <td>137</td>\n",
       "      <td>40</td>\n",
       "      <td>35</td>\n",
       "      <td>168</td>\n",
       "      <td>43.1</td>\n",
       "      <td>2.288</td>\n",
       "      <td>33</td>\n",
       "      <td>1</td>\n",
       "    </tr>\n",
       "  </tbody>\n",
       "</table>\n",
       "</div>"
      ],
      "text/plain": [
       "   Pregnancies  Glucose  BloodPressure  SkinThickness  Insulin   BMI  \\\n",
       "0            6      148             72             35        0  33.6   \n",
       "1            1       85             66             29        0  26.6   \n",
       "2            8      183             64              0        0  23.3   \n",
       "3            1       89             66             23       94  28.1   \n",
       "4            0      137             40             35      168  43.1   \n",
       "\n",
       "   DiabetesPedigreeFunction  Age  Outcome  \n",
       "0                     0.627   50        1  \n",
       "1                     0.351   31        0  \n",
       "2                     0.672   32        1  \n",
       "3                     0.167   21        0  \n",
       "4                     2.288   33        1  "
      ]
     },
     "execution_count": 8,
     "metadata": {},
     "output_type": "execute_result"
    }
   ],
   "source": [
    "df.head()"
   ]
  },
  {
   "cell_type": "code",
   "execution_count": 9,
   "metadata": {},
   "outputs": [],
   "source": [
    "df = df.rename(columns = {\"Pregnancies\":\"HamilelikDurumu\",\n",
    "                         \"Glucose\":\"Glikoz\",\n",
    "                         \"BloodPressure\":\"KanBasinci\",\n",
    "                         \"SkinThickness\":\"CiltKalinligi\",\n",
    "                         \"BMI\":\"VKIndeksi\",\n",
    "                         \"DiabetesPedigreeFunction\":\"SoyagaciIslevi\",\n",
    "                         \"Age\":\"Yas\",\n",
    "                         \"Outcome\":\"Sonuc\"})"
   ]
  },
  {
   "cell_type": "code",
   "execution_count": 10,
   "metadata": {},
   "outputs": [],
   "source": [
    "# 0 değerleri eksik değer olduğu 0 yerlerine Nan atadım ve eksik değerleri diğer değerlerin ortalaması ile doldurmuş oldum."
   ]
  },
  {
   "cell_type": "code",
   "execution_count": 11,
   "metadata": {},
   "outputs": [],
   "source": [
    "df.Glikoz = df.Glikoz.replace(0, np.NaN)\n",
    "df.KanBasinci = df.KanBasinci.replace(0, np.NaN)\n",
    "df.CiltKalinligi = df.CiltKalinligi.replace(0, np.NaN)\n",
    "df.VKIndeksi = df.VKIndeksi.replace(0, np.NaN)\n",
    "df.SoyagaciIslevi = df.SoyagaciIslevi.replace(0, np.NaN)\n",
    "df.Yas = df.Yas.replace(0, np.NaN)\n",
    "df.Insulin = df.Insulin.replace(0, np.NaN)"
   ]
  },
  {
   "cell_type": "code",
   "execution_count": 12,
   "metadata": {},
   "outputs": [
    {
     "data": {
      "text/plain": [
       "HamilelikDurumu      0\n",
       "Glikoz               5\n",
       "KanBasinci          35\n",
       "CiltKalinligi      227\n",
       "Insulin            374\n",
       "VKIndeksi           11\n",
       "SoyagaciIslevi       0\n",
       "Yas                  0\n",
       "Sonuc                0\n",
       "dtype: int64"
      ]
     },
     "execution_count": 12,
     "metadata": {},
     "output_type": "execute_result"
    }
   ],
   "source": [
    "df.isnull().sum()"
   ]
  },
  {
   "cell_type": "code",
   "execution_count": 13,
   "metadata": {},
   "outputs": [],
   "source": [
    "df.Insulin = df.Insulin.fillna(df.Insulin.mean())\n",
    "df.Yas = df.Yas.fillna(df.Yas.mean())\n",
    "df.SoyagaciIslevi = df.SoyagaciIslevi.fillna(df.SoyagaciIslevi.mean())\n",
    "df.VKIndeksi = df.VKIndeksi.fillna(df.VKIndeksi.mean())\n",
    "df.CiltKalinligi = df.CiltKalinligi.fillna(df.CiltKalinligi.mean())\n",
    "df.KanBasinci = df.KanBasinci.fillna(df.KanBasinci.mean())\n",
    "df.Glikoz = df.Glikoz.fillna(df.Glikoz.mean())"
   ]
  },
  {
   "cell_type": "code",
   "execution_count": 14,
   "metadata": {},
   "outputs": [
    {
     "data": {
      "text/plain": [
       "HamilelikDurumu    0\n",
       "Glikoz             0\n",
       "KanBasinci         0\n",
       "CiltKalinligi      0\n",
       "Insulin            0\n",
       "VKIndeksi          0\n",
       "SoyagaciIslevi     0\n",
       "Yas                0\n",
       "Sonuc              0\n",
       "dtype: int64"
      ]
     },
     "execution_count": 14,
     "metadata": {},
     "output_type": "execute_result"
    }
   ],
   "source": [
    "df.isnull().sum()"
   ]
  },
  {
   "cell_type": "code",
   "execution_count": 15,
   "metadata": {},
   "outputs": [
    {
     "data": {
      "text/html": [
       "<div>\n",
       "<style scoped>\n",
       "    .dataframe tbody tr th:only-of-type {\n",
       "        vertical-align: middle;\n",
       "    }\n",
       "\n",
       "    .dataframe tbody tr th {\n",
       "        vertical-align: top;\n",
       "    }\n",
       "\n",
       "    .dataframe thead th {\n",
       "        text-align: right;\n",
       "    }\n",
       "</style>\n",
       "<table border=\"1\" class=\"dataframe\">\n",
       "  <thead>\n",
       "    <tr style=\"text-align: right;\">\n",
       "      <th></th>\n",
       "      <th>HamilelikDurumu</th>\n",
       "      <th>Glikoz</th>\n",
       "      <th>KanBasinci</th>\n",
       "      <th>CiltKalinligi</th>\n",
       "      <th>Insulin</th>\n",
       "      <th>VKIndeksi</th>\n",
       "      <th>SoyagaciIslevi</th>\n",
       "      <th>Yas</th>\n",
       "      <th>Sonuc</th>\n",
       "    </tr>\n",
       "  </thead>\n",
       "  <tbody>\n",
       "    <tr>\n",
       "      <th>0</th>\n",
       "      <td>6</td>\n",
       "      <td>148.0</td>\n",
       "      <td>72.0</td>\n",
       "      <td>35.00000</td>\n",
       "      <td>155.548223</td>\n",
       "      <td>33.6</td>\n",
       "      <td>0.627</td>\n",
       "      <td>50</td>\n",
       "      <td>1</td>\n",
       "    </tr>\n",
       "    <tr>\n",
       "      <th>1</th>\n",
       "      <td>1</td>\n",
       "      <td>85.0</td>\n",
       "      <td>66.0</td>\n",
       "      <td>29.00000</td>\n",
       "      <td>155.548223</td>\n",
       "      <td>26.6</td>\n",
       "      <td>0.351</td>\n",
       "      <td>31</td>\n",
       "      <td>0</td>\n",
       "    </tr>\n",
       "    <tr>\n",
       "      <th>2</th>\n",
       "      <td>8</td>\n",
       "      <td>183.0</td>\n",
       "      <td>64.0</td>\n",
       "      <td>29.15342</td>\n",
       "      <td>155.548223</td>\n",
       "      <td>23.3</td>\n",
       "      <td>0.672</td>\n",
       "      <td>32</td>\n",
       "      <td>1</td>\n",
       "    </tr>\n",
       "    <tr>\n",
       "      <th>3</th>\n",
       "      <td>1</td>\n",
       "      <td>89.0</td>\n",
       "      <td>66.0</td>\n",
       "      <td>23.00000</td>\n",
       "      <td>94.000000</td>\n",
       "      <td>28.1</td>\n",
       "      <td>0.167</td>\n",
       "      <td>21</td>\n",
       "      <td>0</td>\n",
       "    </tr>\n",
       "    <tr>\n",
       "      <th>4</th>\n",
       "      <td>0</td>\n",
       "      <td>137.0</td>\n",
       "      <td>40.0</td>\n",
       "      <td>35.00000</td>\n",
       "      <td>168.000000</td>\n",
       "      <td>43.1</td>\n",
       "      <td>2.288</td>\n",
       "      <td>33</td>\n",
       "      <td>1</td>\n",
       "    </tr>\n",
       "  </tbody>\n",
       "</table>\n",
       "</div>"
      ],
      "text/plain": [
       "   HamilelikDurumu  Glikoz  KanBasinci  CiltKalinligi     Insulin  VKIndeksi  \\\n",
       "0                6   148.0        72.0       35.00000  155.548223       33.6   \n",
       "1                1    85.0        66.0       29.00000  155.548223       26.6   \n",
       "2                8   183.0        64.0       29.15342  155.548223       23.3   \n",
       "3                1    89.0        66.0       23.00000   94.000000       28.1   \n",
       "4                0   137.0        40.0       35.00000  168.000000       43.1   \n",
       "\n",
       "   SoyagaciIslevi  Yas  Sonuc  \n",
       "0           0.627   50      1  \n",
       "1           0.351   31      0  \n",
       "2           0.672   32      1  \n",
       "3           0.167   21      0  \n",
       "4           2.288   33      1  "
      ]
     },
     "execution_count": 15,
     "metadata": {},
     "output_type": "execute_result"
    }
   ],
   "source": [
    "df.head()"
   ]
  },
  {
   "cell_type": "code",
   "execution_count": 16,
   "metadata": {},
   "outputs": [],
   "source": [
    "# Değişkenlerin değerlerini tutabilmek için her değeri for döngüsü ile bir listeye atadım."
   ]
  },
  {
   "cell_type": "code",
   "execution_count": 17,
   "metadata": {},
   "outputs": [],
   "source": [
    "df[\"HamilelikDurumu\"] = le.fit_transform(df.HamilelikDurumu)"
   ]
  },
  {
   "cell_type": "code",
   "execution_count": 18,
   "metadata": {},
   "outputs": [],
   "source": [
    "hamileliksayisi = []\n",
    "for i in le.classes_:\n",
    "    hamileliksayisi += [i]\n",
    "#print(hamileliksayisi)"
   ]
  },
  {
   "cell_type": "code",
   "execution_count": 19,
   "metadata": {},
   "outputs": [],
   "source": [
    "df[\"Glikoz\"] = le.fit_transform(df.Glikoz)"
   ]
  },
  {
   "cell_type": "code",
   "execution_count": 20,
   "metadata": {},
   "outputs": [],
   "source": [
    "glikozdurumu = []\n",
    "for i in le.classes_:\n",
    "    glikozdurumu += [i]\n",
    "#print(glikozdurumu)"
   ]
  },
  {
   "cell_type": "code",
   "execution_count": 21,
   "metadata": {},
   "outputs": [],
   "source": [
    "df[\"KanBasinci\"] = le.fit_transform(df.KanBasinci)"
   ]
  },
  {
   "cell_type": "code",
   "execution_count": 22,
   "metadata": {},
   "outputs": [],
   "source": [
    "kanbasincidurumu = []\n",
    "for i in le.classes_:\n",
    "    kanbasincidurumu += [i]\n",
    "#print(kanbasincidurumu)"
   ]
  },
  {
   "cell_type": "code",
   "execution_count": 23,
   "metadata": {},
   "outputs": [],
   "source": [
    "df[\"CiltKalinligi\"] = le.fit_transform(df.CiltKalinligi)"
   ]
  },
  {
   "cell_type": "code",
   "execution_count": 24,
   "metadata": {},
   "outputs": [],
   "source": [
    "ciltdurumu = []\n",
    "for i in le.classes_:\n",
    "    ciltdurumu += [i]\n",
    "#print(ciltdurumu)"
   ]
  },
  {
   "cell_type": "code",
   "execution_count": 25,
   "metadata": {},
   "outputs": [],
   "source": [
    "df[\"Insulin\"] = le.fit_transform(df.Insulin)"
   ]
  },
  {
   "cell_type": "code",
   "execution_count": 26,
   "metadata": {},
   "outputs": [],
   "source": [
    "insulindurumu = []\n",
    "for i in le.classes_:\n",
    "    insulindurumu += [i]\n",
    "#print(insulindurumu)"
   ]
  },
  {
   "cell_type": "code",
   "execution_count": 27,
   "metadata": {},
   "outputs": [],
   "source": [
    "df[\"VKIndeksi\"] = le.fit_transform(df.VKIndeksi)"
   ]
  },
  {
   "cell_type": "code",
   "execution_count": 28,
   "metadata": {},
   "outputs": [],
   "source": [
    "vki = []\n",
    "for i in le.classes_:\n",
    "    vki += [i]\n",
    "#print(vki)"
   ]
  },
  {
   "cell_type": "code",
   "execution_count": 29,
   "metadata": {},
   "outputs": [],
   "source": [
    "df[\"SoyagaciIslevi\"] = le.fit_transform(df.SoyagaciIslevi)"
   ]
  },
  {
   "cell_type": "code",
   "execution_count": 30,
   "metadata": {},
   "outputs": [],
   "source": [
    "soyagacidurumu = []\n",
    "for i in le.classes_:\n",
    "    soyagacidurumu += [round(i, 3)]\n",
    "#print(soyagacidurumu)"
   ]
  },
  {
   "cell_type": "code",
   "execution_count": 31,
   "metadata": {},
   "outputs": [],
   "source": [
    "df[\"Yas\"] = le.fit_transform(df.Yas)"
   ]
  },
  {
   "cell_type": "code",
   "execution_count": 32,
   "metadata": {},
   "outputs": [],
   "source": [
    "yasdurumu = []\n",
    "for i in le.classes_:\n",
    "    yasdurumu += [i]\n",
    "#print(yasdurumu)"
   ]
  },
  {
   "cell_type": "code",
   "execution_count": 33,
   "metadata": {},
   "outputs": [
    {
     "data": {
      "text/plain": [
       "94     374\n",
       "66      11\n",
       "85       9\n",
       "82       9\n",
       "75       8\n",
       "      ... \n",
       "140      1\n",
       "141      1\n",
       "142      1\n",
       "143      1\n",
       "0        1\n",
       "Name: Insulin, Length: 186, dtype: int64"
      ]
     },
     "execution_count": 33,
     "metadata": {},
     "output_type": "execute_result"
    }
   ],
   "source": [
    "df.Insulin.value_counts()"
   ]
  },
  {
   "cell_type": "code",
   "execution_count": 34,
   "metadata": {},
   "outputs": [],
   "source": [
    "# Her değerin karşılık geldiği indeks değeri için indeks dizileri oluşturdum. Yukarıda oluşturduğumuz listelerde değerler\n",
    "# indeks numarasına göre sıralı olduğu için karmaşıklık olmuyor. Her değer ait olduğu indeks değeri ile eşleşiyor."
   ]
  },
  {
   "cell_type": "code",
   "execution_count": 35,
   "metadata": {},
   "outputs": [],
   "source": [
    "insulinindeks = []\n",
    "for i in np.arange(0, 187):\n",
    "    insulinindeks += [i]\n",
    "#print(insulinindeks)"
   ]
  },
  {
   "cell_type": "code",
   "execution_count": 36,
   "metadata": {},
   "outputs": [],
   "source": [
    "yasindeks = []\n",
    "for i in np.arange(0, 53):\n",
    "    yasindeks += [i]\n",
    "#print(yasindeks)"
   ]
  },
  {
   "cell_type": "code",
   "execution_count": 37,
   "metadata": {},
   "outputs": [],
   "source": [
    "hamileindeks = []\n",
    "for i in np.arange(0, len(hamileliksayisi)+1):\n",
    "    hamileindeks += [i]\n",
    "#print(hamileindeks)"
   ]
  },
  {
   "cell_type": "code",
   "execution_count": 38,
   "metadata": {},
   "outputs": [],
   "source": [
    "glikozindeks = []\n",
    "for i in np.arange(0, len(glikozdurumu)+1):\n",
    "    glikozindeks += [i]\n",
    "#print(glikozindeks)"
   ]
  },
  {
   "cell_type": "code",
   "execution_count": 39,
   "metadata": {},
   "outputs": [],
   "source": [
    "kanbasinciindeks = []\n",
    "for i in np.arange(0, len(kanbasincidurumu)+1):\n",
    "    kanbasinciindeks += [i]\n",
    "#print(kanbasinciindeks)"
   ]
  },
  {
   "cell_type": "code",
   "execution_count": 40,
   "metadata": {},
   "outputs": [],
   "source": [
    "ciltindeks = []\n",
    "for i in np.arange(0, len(ciltdurumu)+1):\n",
    "    ciltindeks += [i]\n",
    "#print(ciltindeks)"
   ]
  },
  {
   "cell_type": "code",
   "execution_count": 41,
   "metadata": {},
   "outputs": [],
   "source": [
    "vkiindeks = []\n",
    "for i in np.arange(0, len(vki)+1):\n",
    "    vkiindeks += [i]\n",
    "#print(vkiindeks)"
   ]
  },
  {
   "cell_type": "code",
   "execution_count": 42,
   "metadata": {},
   "outputs": [],
   "source": [
    "soyagaciindeks = []\n",
    "for i in np.arange(0, len(soyagacidurumu)+1):\n",
    "    soyagaciindeks += [i]\n",
    "#print(soyagaciindeks)"
   ]
  },
  {
   "cell_type": "markdown",
   "metadata": {},
   "source": [
    "# MACHINE LEARNING"
   ]
  },
  {
   "cell_type": "code",
   "execution_count": 43,
   "metadata": {},
   "outputs": [],
   "source": [
    "# Çeşitli sınıflandırma modellerini deneyerek modelimiz için en uygununu seçebiliriz."
   ]
  },
  {
   "cell_type": "code",
   "execution_count": 256,
   "metadata": {},
   "outputs": [],
   "source": [
    "x = df.drop(\"Sonuc\", axis = 1)\n",
    "y = df[\"Sonuc\"]"
   ]
  },
  {
   "cell_type": "code",
   "execution_count": 257,
   "metadata": {},
   "outputs": [],
   "source": [
    "x_train, x_test, y_train, y_test = train_test_split(x, y, test_size = 0.25, random_state = 100)"
   ]
  },
  {
   "cell_type": "code",
   "execution_count": 258,
   "metadata": {},
   "outputs": [],
   "source": [
    "#log_model = LogisticRegression()\n",
    "#knn_model = KNeighborsClassifier()\n",
    "#svm_model = SVC()\n",
    "#mlpc_model = MLPClassifier()\n",
    "#cart_model = DecisionTreeClassifier()\n",
    "#rf_model = RandomForestClassifier()\n",
    "#gbm_model = GradientBoostingClassifier()\n",
    "#xgb_model = XGBClassifier()\n",
    "lgbm_model = LGBMClassifier()\n",
    "#catb_model = CatBoostClassifier()"
   ]
  },
  {
   "cell_type": "code",
   "execution_count": 272,
   "metadata": {},
   "outputs": [
    {
     "data": {
      "text/plain": [
       "'catb_params = {\"iterations\" : [200, 500, 800, 100, 650],\\n              \"learning_rate\" : [0.01, 0.3, 0.1],\\n              \"depth\" : np.arange(1,10)}'"
      ]
     },
     "execution_count": 272,
     "metadata": {},
     "output_type": "execute_result"
    }
   ],
   "source": [
    "\"\"\"log_params = {\"penalty\" : ['l1', 'l2'],\n",
    "             \"tol\" : [0.001, 0.01, 0.1, 0.02, 0.3],\n",
    "             \"max_iter\" : [100, 200, 300, 400]}\"\"\"\n",
    "\"\"\"knn_params = {\"n_neighbors\" : np.arange(1, 50),\n",
    "             \"leaf_size\" : np.arange(30, 100)}\"\"\"\n",
    "\"\"\"svm_params = {\"max_iter\" : [-1, 0, 1, 5, 8],\n",
    "             \"C\" : np.arange(1, 10),\n",
    "             \"tol\" : [0.001, 0.1, 0.2, 0.0001]}\"\"\"\n",
    "\"\"\"mlpc_params = {\"activation\": [\"identity\", \"logistic\", \"tanh\", \"relu\"],\n",
    "              \"random_state\" : np.arange(5,50,5),\n",
    "              \"alpha\" : [0.001, 0.02, 0.01, 0.3, 0.1],\n",
    "              \"solver\" : [\"lbfgs\", \"sgd\", \"adam\"]}\"\"\"\n",
    "\"\"\"cart_params = {\"min_samples_split\" : [2, 5, 7, 9, 11],\n",
    "              \"min_samples_leaf\" : [1, 3, 5, 7, 8],\n",
    "              \"max_features\" : [\"auto\", \"sqrt\", \"log2\"],\n",
    "              \"max_depth\" : [1, 3, 5, 8, 10]}\"\"\"\n",
    "\"\"\"rf_params = {\"n_estimators\" : [100, 200, 300, 500, 800],\n",
    "            \"criterion\" : [\"gini\", \"entropy\"],\n",
    "            \"min_samples_split\" : np.arange(1,10)}\"\"\"\n",
    "\"\"\"gbm_params = {\"learning_rate\" : [0.1, 0.01, 0.001],\n",
    "             \"n_estimators\" : [100, 300, 500, 1000],\n",
    "             \"max_depth\" : [2, 3, 5, 7, 9]}\"\"\"\n",
    "\"\"\"xgb_params = {\"n_estimators\" : [100, 500, 1000, 800, 2000],\n",
    "             \"subsample\" : [0.6, 0.8, 1, 2, 1.5],\n",
    "             \"max_depth\" : [3, 5, 7, 9],\n",
    "             \"learning_rate\" : [0.1, 0.01, 0.001]}\"\"\"\n",
    "lgbm_params = {\"learning_rate\" : [0.001, 0.1, 0.01],\n",
    "              \"n_estimators\" : [200, 500, 100, 800],\n",
    "              \"max_depth\" : [1, 2, 3, 5, 8],\n",
    "              \"random_state\" : np.arange(1,50,5)}\n",
    "\"\"\"catb_params = {\"iterations\" : [200, 500, 800, 100, 650],\n",
    "              \"learning_rate\" : [0.01, 0.3, 0.1],\n",
    "              \"depth\" : np.arange(1,10)}\"\"\""
   ]
  },
  {
   "cell_type": "code",
   "execution_count": 273,
   "metadata": {},
   "outputs": [
    {
     "name": "stdout",
     "output_type": "stream",
     "text": [
      "Fitting 10 folds for each of 600 candidates, totalling 6000 fits\n"
     ]
    },
    {
     "name": "stderr",
     "output_type": "stream",
     "text": [
      "[Parallel(n_jobs=-1)]: Using backend LokyBackend with 8 concurrent workers.\n",
      "[Parallel(n_jobs=-1)]: Done  34 tasks      | elapsed:    0.2s\n",
      "[Parallel(n_jobs=-1)]: Done 591 tasks      | elapsed:    6.7s\n",
      "[Parallel(n_jobs=-1)]: Done 1005 tasks      | elapsed:   17.4s\n",
      "[Parallel(n_jobs=-1)]: Done 1400 tasks      | elapsed:   35.6s\n",
      "[Parallel(n_jobs=-1)]: Done 1797 tasks      | elapsed:  1.1min\n",
      "[Parallel(n_jobs=-1)]: Done 2524 tasks      | elapsed:  1.5min\n",
      "[Parallel(n_jobs=-1)]: Done 3490 tasks      | elapsed:  1.9min\n",
      "[Parallel(n_jobs=-1)]: Done 4584 tasks      | elapsed:  2.6min\n",
      "[Parallel(n_jobs=-1)]: Done 5721 tasks      | elapsed:  3.2min\n",
      "[Parallel(n_jobs=-1)]: Done 6000 out of 6000 | elapsed:  3.5min finished\n"
     ]
    }
   ],
   "source": [
    "#log_cv = GridSearchCV(log_model, log_params, cv = 10, verbose = 2, n_jobs = -1).fit(x_train, y_train)\n",
    "#knn_cv = GridSearchCV(knn_model, knn_params, cv = 10, verbose = 2, n_jobs = -1).fit(x_train, y_train)\n",
    "#svm_cv = GridSearchCV(svm_model, svm_params, cv = 10, verbose = 2, n_jobs = -1).fit(x_train, y_train)\n",
    "#mlpc_cv = GridSearchCV(mlpc_model, mlpc_params, cv = 5, verbose = 2, n_jobs = -1).fit(x_train, y_train)\n",
    "#cart_cv = GridSearchCV(cart_model, cart_params, cv = 10, verbose = 2, n_jobs = -1).fit(x_train, y_train)\n",
    "#rf_cv = GridSearchCV(rf_model, rf_params, cv = 5, verbose = 2, n_jobs = -1).fit(x_train, y_train)\n",
    "#gbm_cv = GridSearchCV(gbm_model, gbm_params, cv = 5, verbose = 2, n_jobs = -1).fit(x_train, y_train)\n",
    "#xgb_cv = GridSearchCV(xgb_model, xgb_params, cv = 5, verbose = 2, n_jobs = -1).fit(x_train, y_train)\n",
    "lgbm_cv = GridSearchCV(lgbm_model, lgbm_params, cv = 10, verbose = 2, n_jobs = -1).fit(x_train, y_train)\n",
    "#catb_cv = GridSearchCV(catb_model, catb_params, cv = 5, verbose = 2, n_jobs = -1).fit(x_train, y_train)"
   ]
  },
  {
   "cell_type": "code",
   "execution_count": 274,
   "metadata": {},
   "outputs": [
    {
     "data": {
      "text/plain": [
       "{'learning_rate': 0.1, 'max_depth': 2, 'n_estimators': 200, 'random_state': 1}"
      ]
     },
     "execution_count": 274,
     "metadata": {},
     "output_type": "execute_result"
    }
   ],
   "source": [
    "#log_cv.best_params_\n",
    "#knn_cv.best_params_\n",
    "#svm_cv.best_params_\n",
    "#mlpc_cv.best_params_\n",
    "#cart_cv.best_params_\n",
    "#rf_cv.best_params_\n",
    "#gbm_cv.best_params_\n",
    "#xgb_cv.best_params_\n",
    "lgbm_cv.best_params_\n",
    "#catb_cv.best_params_"
   ]
  },
  {
   "cell_type": "code",
   "execution_count": 275,
   "metadata": {},
   "outputs": [],
   "source": [
    "#tuned = LogisticRegression(max_iter = 200, penalty = \"l2\", tol =0.001).fit(x_train, y_train)\n",
    "#tuned = KNeighborsClassifier(leaf_size = 30, n_neighbors = 41).fit(x_train, y_train)\n",
    "#tuned = SVC(C = 7, max_iter = -1, tol = 0.1).fit(x_train, y_train)\n",
    "#tuned = MLPClassifier(activation = \"identity\", random_state = 5, alpha = 0.3, solver = \"lbfgs\").fit(x_train, y_train)\n",
    "#tuned = DecisionTreeClassifier(max_depth = 10, max_features = \"log2\", min_samples_leaf = 8, min_samples_split = 11).fit(x_train, y_train)\n",
    "#tuned = RandomForestClassifier(n_estimators = 200, criterion = \"entropy\", min_samples_split = 5).fit(x_train, y_train)\n",
    "#tuned = GradientBoostingClassifier(learning_rate = 0.01, n_estimators = 1000, max_depth = 2).fit(x_train, y_train)\n",
    "#tuned = XGBClassifier(n_estimators = 800, subsample = 1, max_depth = 3, learning_rate = 0.01).fit(x_train, y_train)\n",
    "tuned = LGBMClassifier(learning_rate = 0.1, max_depth = 2, n_estimators = 200, random_state = 1).fit(x_train, y_train)\n",
    "#tuned = CatBoostClassifier(depth = 6, iterations = 100, learning_rate = 0.1).fit(x_train, y_train)"
   ]
  },
  {
   "cell_type": "code",
   "execution_count": 276,
   "metadata": {},
   "outputs": [],
   "source": [
    "y_pred = tuned.predict(x_test)"
   ]
  },
  {
   "cell_type": "code",
   "execution_count": 277,
   "metadata": {},
   "outputs": [
    {
     "data": {
      "text/plain": [
       "0.5103103630798288"
      ]
     },
     "execution_count": 277,
     "metadata": {},
     "output_type": "execute_result"
    }
   ],
   "source": [
    "np.sqrt(mean_squared_error(y_test, y_pred))"
   ]
  },
  {
   "cell_type": "code",
   "execution_count": 278,
   "metadata": {},
   "outputs": [
    {
     "data": {
      "text/plain": [
       "array([0, 0, 1, 0, 1], dtype=int64)"
      ]
     },
     "execution_count": 278,
     "metadata": {},
     "output_type": "execute_result"
    }
   ],
   "source": [
    "tuned.predict(x_test)[0:5]"
   ]
  },
  {
   "cell_type": "code",
   "execution_count": 279,
   "metadata": {},
   "outputs": [
    {
     "data": {
      "text/plain": [
       "173    0\n",
       "253    0\n",
       "207    1\n",
       "737    0\n",
       "191    0\n",
       "Name: Sonuc, dtype: int64"
      ]
     },
     "execution_count": 279,
     "metadata": {},
     "output_type": "execute_result"
    }
   ],
   "source": [
    "y_test[0:5]"
   ]
  },
  {
   "cell_type": "code",
   "execution_count": 280,
   "metadata": {},
   "outputs": [
    {
     "data": {
      "text/plain": [
       "0.8923611111111112"
      ]
     },
     "execution_count": 280,
     "metadata": {},
     "output_type": "execute_result"
    }
   ],
   "source": [
    "tuned.score(x_train, y_train)"
   ]
  },
  {
   "cell_type": "code",
   "execution_count": 281,
   "metadata": {},
   "outputs": [
    {
     "data": {
      "text/plain": [
       "0.7395833333333334"
      ]
     },
     "execution_count": 281,
     "metadata": {},
     "output_type": "execute_result"
    }
   ],
   "source": [
    "tuned.score(x_test, y_test)"
   ]
  },
  {
   "cell_type": "code",
   "execution_count": 282,
   "metadata": {},
   "outputs": [],
   "source": [
    "#np.sqrt(-1*(cross_val_score(tuned, x_test, y_test, cv=10, scoring='neg_mean_squared_error'))).mean()"
   ]
  },
  {
   "cell_type": "code",
   "execution_count": 283,
   "metadata": {},
   "outputs": [
    {
     "data": {
      "text/plain": [
       "'importance = pd.DataFrame({\"Importance\": tuned.feature_importances_},\\n                        index=x_train.columns)'"
      ]
     },
     "execution_count": 283,
     "metadata": {},
     "output_type": "execute_result"
    }
   ],
   "source": [
    "\"\"\"importance = pd.DataFrame({\"Importance\": tuned.feature_importances_},\n",
    "                        index=x_train.columns)\"\"\""
   ]
  },
  {
   "cell_type": "code",
   "execution_count": 284,
   "metadata": {},
   "outputs": [
    {
     "data": {
      "text/plain": [
       "array([[106,  21],\n",
       "       [ 29,  36]], dtype=int64)"
      ]
     },
     "execution_count": 284,
     "metadata": {},
     "output_type": "execute_result"
    }
   ],
   "source": [
    "confusion_matrix(y_test, y_pred)"
   ]
  },
  {
   "cell_type": "code",
   "execution_count": 285,
   "metadata": {},
   "outputs": [],
   "source": [
    "#importance"
   ]
  },
  {
   "cell_type": "code",
   "execution_count": 286,
   "metadata": {},
   "outputs": [],
   "source": [
    "df_2 = df.copy()"
   ]
  },
  {
   "cell_type": "code",
   "execution_count": 287,
   "metadata": {},
   "outputs": [
    {
     "data": {
      "text/html": [
       "<div>\n",
       "<style scoped>\n",
       "    .dataframe tbody tr th:only-of-type {\n",
       "        vertical-align: middle;\n",
       "    }\n",
       "\n",
       "    .dataframe tbody tr th {\n",
       "        vertical-align: top;\n",
       "    }\n",
       "\n",
       "    .dataframe thead th {\n",
       "        text-align: right;\n",
       "    }\n",
       "</style>\n",
       "<table border=\"1\" class=\"dataframe\">\n",
       "  <thead>\n",
       "    <tr style=\"text-align: right;\">\n",
       "      <th></th>\n",
       "      <th>HamilelikDurumu</th>\n",
       "      <th>Glikoz</th>\n",
       "      <th>KanBasinci</th>\n",
       "      <th>CiltKalinligi</th>\n",
       "      <th>Insulin</th>\n",
       "      <th>VKIndeksi</th>\n",
       "      <th>SoyagaciIslevi</th>\n",
       "      <th>Yas</th>\n",
       "      <th>Sonuc</th>\n",
       "    </tr>\n",
       "  </thead>\n",
       "  <tbody>\n",
       "    <tr>\n",
       "      <th>0</th>\n",
       "      <td>6</td>\n",
       "      <td>86</td>\n",
       "      <td>21</td>\n",
       "      <td>28</td>\n",
       "      <td>94</td>\n",
       "      <td>123</td>\n",
       "      <td>350</td>\n",
       "      <td>29</td>\n",
       "      <td>1</td>\n",
       "    </tr>\n",
       "    <tr>\n",
       "      <th>1</th>\n",
       "      <td>1</td>\n",
       "      <td>22</td>\n",
       "      <td>18</td>\n",
       "      <td>21</td>\n",
       "      <td>94</td>\n",
       "      <td>61</td>\n",
       "      <td>196</td>\n",
       "      <td>10</td>\n",
       "      <td>0</td>\n",
       "    </tr>\n",
       "    <tr>\n",
       "      <th>2</th>\n",
       "      <td>8</td>\n",
       "      <td>121</td>\n",
       "      <td>16</td>\n",
       "      <td>22</td>\n",
       "      <td>94</td>\n",
       "      <td>29</td>\n",
       "      <td>368</td>\n",
       "      <td>11</td>\n",
       "      <td>1</td>\n",
       "    </tr>\n",
       "    <tr>\n",
       "      <th>3</th>\n",
       "      <td>1</td>\n",
       "      <td>26</td>\n",
       "      <td>18</td>\n",
       "      <td>15</td>\n",
       "      <td>61</td>\n",
       "      <td>76</td>\n",
       "      <td>53</td>\n",
       "      <td>0</td>\n",
       "      <td>0</td>\n",
       "    </tr>\n",
       "    <tr>\n",
       "      <th>4</th>\n",
       "      <td>0</td>\n",
       "      <td>75</td>\n",
       "      <td>3</td>\n",
       "      <td>28</td>\n",
       "      <td>102</td>\n",
       "      <td>209</td>\n",
       "      <td>514</td>\n",
       "      <td>12</td>\n",
       "      <td>1</td>\n",
       "    </tr>\n",
       "  </tbody>\n",
       "</table>\n",
       "</div>"
      ],
      "text/plain": [
       "   HamilelikDurumu  Glikoz  KanBasinci  CiltKalinligi  Insulin  VKIndeksi  \\\n",
       "0                6      86          21             28       94        123   \n",
       "1                1      22          18             21       94         61   \n",
       "2                8     121          16             22       94         29   \n",
       "3                1      26          18             15       61         76   \n",
       "4                0      75           3             28      102        209   \n",
       "\n",
       "   SoyagaciIslevi  Yas  Sonuc  \n",
       "0             350   29      1  \n",
       "1             196   10      0  \n",
       "2             368   11      1  \n",
       "3              53    0      0  \n",
       "4             514   12      1  "
      ]
     },
     "execution_count": 287,
     "metadata": {},
     "output_type": "execute_result"
    }
   ],
   "source": [
    "df_2.head()"
   ]
  },
  {
   "cell_type": "code",
   "execution_count": 288,
   "metadata": {},
   "outputs": [],
   "source": [
    "df_2 = df_2.drop([\"Sonuc\"], axis = 1)"
   ]
  },
  {
   "cell_type": "code",
   "execution_count": 289,
   "metadata": {},
   "outputs": [
    {
     "data": {
      "text/html": [
       "<div>\n",
       "<style scoped>\n",
       "    .dataframe tbody tr th:only-of-type {\n",
       "        vertical-align: middle;\n",
       "    }\n",
       "\n",
       "    .dataframe tbody tr th {\n",
       "        vertical-align: top;\n",
       "    }\n",
       "\n",
       "    .dataframe thead th {\n",
       "        text-align: right;\n",
       "    }\n",
       "</style>\n",
       "<table border=\"1\" class=\"dataframe\">\n",
       "  <thead>\n",
       "    <tr style=\"text-align: right;\">\n",
       "      <th></th>\n",
       "      <th>HamilelikDurumu</th>\n",
       "      <th>Glikoz</th>\n",
       "      <th>KanBasinci</th>\n",
       "      <th>CiltKalinligi</th>\n",
       "      <th>Insulin</th>\n",
       "      <th>VKIndeksi</th>\n",
       "      <th>SoyagaciIslevi</th>\n",
       "      <th>Yas</th>\n",
       "    </tr>\n",
       "  </thead>\n",
       "  <tbody>\n",
       "    <tr>\n",
       "      <th>0</th>\n",
       "      <td>6</td>\n",
       "      <td>86</td>\n",
       "      <td>21</td>\n",
       "      <td>28</td>\n",
       "      <td>94</td>\n",
       "      <td>123</td>\n",
       "      <td>350</td>\n",
       "      <td>29</td>\n",
       "    </tr>\n",
       "    <tr>\n",
       "      <th>1</th>\n",
       "      <td>1</td>\n",
       "      <td>22</td>\n",
       "      <td>18</td>\n",
       "      <td>21</td>\n",
       "      <td>94</td>\n",
       "      <td>61</td>\n",
       "      <td>196</td>\n",
       "      <td>10</td>\n",
       "    </tr>\n",
       "    <tr>\n",
       "      <th>2</th>\n",
       "      <td>8</td>\n",
       "      <td>121</td>\n",
       "      <td>16</td>\n",
       "      <td>22</td>\n",
       "      <td>94</td>\n",
       "      <td>29</td>\n",
       "      <td>368</td>\n",
       "      <td>11</td>\n",
       "    </tr>\n",
       "    <tr>\n",
       "      <th>3</th>\n",
       "      <td>1</td>\n",
       "      <td>26</td>\n",
       "      <td>18</td>\n",
       "      <td>15</td>\n",
       "      <td>61</td>\n",
       "      <td>76</td>\n",
       "      <td>53</td>\n",
       "      <td>0</td>\n",
       "    </tr>\n",
       "    <tr>\n",
       "      <th>4</th>\n",
       "      <td>0</td>\n",
       "      <td>75</td>\n",
       "      <td>3</td>\n",
       "      <td>28</td>\n",
       "      <td>102</td>\n",
       "      <td>209</td>\n",
       "      <td>514</td>\n",
       "      <td>12</td>\n",
       "    </tr>\n",
       "  </tbody>\n",
       "</table>\n",
       "</div>"
      ],
      "text/plain": [
       "   HamilelikDurumu  Glikoz  KanBasinci  CiltKalinligi  Insulin  VKIndeksi  \\\n",
       "0                6      86          21             28       94        123   \n",
       "1                1      22          18             21       94         61   \n",
       "2                8     121          16             22       94         29   \n",
       "3                1      26          18             15       61         76   \n",
       "4                0      75           3             28      102        209   \n",
       "\n",
       "   SoyagaciIslevi  Yas  \n",
       "0             350   29  \n",
       "1             196   10  \n",
       "2             368   11  \n",
       "3              53    0  \n",
       "4             514   12  "
      ]
     },
     "execution_count": 289,
     "metadata": {},
     "output_type": "execute_result"
    }
   ],
   "source": [
    "df_2.head()"
   ]
  },
  {
   "cell_type": "code",
   "execution_count": 290,
   "metadata": {},
   "outputs": [
    {
     "name": "stdout",
     "output_type": "stream",
     "text": [
      "<class 'pandas.core.frame.DataFrame'>\n",
      "RangeIndex: 768 entries, 0 to 767\n",
      "Data columns (total 8 columns):\n",
      " #   Column           Non-Null Count  Dtype\n",
      "---  ------           --------------  -----\n",
      " 0   HamilelikDurumu  768 non-null    int64\n",
      " 1   Glikoz           768 non-null    int64\n",
      " 2   KanBasinci       768 non-null    int64\n",
      " 3   CiltKalinligi    768 non-null    int64\n",
      " 4   Insulin          768 non-null    int64\n",
      " 5   VKIndeksi        768 non-null    int64\n",
      " 6   SoyagaciIslevi   768 non-null    int64\n",
      " 7   Yas              768 non-null    int64\n",
      "dtypes: int64(8)\n",
      "memory usage: 48.1 KB\n"
     ]
    }
   ],
   "source": [
    "df_2.info()"
   ]
  },
  {
   "cell_type": "markdown",
   "metadata": {},
   "source": [
    "# ARAYÜZ"
   ]
  },
  {
   "cell_type": "code",
   "execution_count": 292,
   "metadata": {},
   "outputs": [],
   "source": [
    "pencere = Tk()\n",
    "pencere.title(\"Şeker Hastalığı Tahmini\")\n",
    "pencere.configure(background=\"#742a2a\")\n",
    "pencere.geometry(\"1350x900\")\n",
    "pencere.state(\"normal\")\n",
    "\n",
    "pencere.columnconfigure(0, weight=1)\n",
    "pencere.rowconfigure(0, weight=1)\n",
    "\n",
    "# Değer listelerinin içinde gezerek seçtiğimiz değeri ona ait olan indeks ile eşleştiriyoruz.\n",
    "\n",
    "def hamileduzenleme():\n",
    "    global hamile\n",
    "    sayi = int(hamile_kutu.get())\n",
    "    s = -1\n",
    "    for i in hamileliksayisi:\n",
    "        s += 1\n",
    "        if(sayi == i):\n",
    "            hamile = hamileindeks[s]\n",
    "\n",
    "def glikozduzenleme():\n",
    "    global glikoz\n",
    "    glikoz_durum = float(glikoz_kutu.get())\n",
    "    s = -1\n",
    "    for i in glikozdurumu:\n",
    "        s += 1\n",
    "        if(glikoz_durum == i):\n",
    "            glikoz = glikozindeks[s]\n",
    "            \n",
    "def kanbasinciduzenleme():\n",
    "    global kanbasinci\n",
    "    basinc = float(kanbasinci_kutu.get())\n",
    "    s = -1\n",
    "    for i in kanbasincidurumu:\n",
    "        s += 1\n",
    "        if(basinc == i):\n",
    "            kanbasinci = kanbasinciindeks[s]\n",
    "            \n",
    "def ciltduzenleme():\n",
    "    global cilt\n",
    "    cilt_durum = float(ciltdurumu_kutu.get())\n",
    "    s = -1\n",
    "    for i in ciltdurumu:\n",
    "        s += 1\n",
    "        if(cilt_durum == i):\n",
    "            cilt = ciltindeks[s]\n",
    "\n",
    "def insulinduzenleme():\n",
    "    global insulin\n",
    "    insulin_durum = float(insulin_kutu.get())\n",
    "    s = -1\n",
    "    for i in insulindurumu:\n",
    "        s += 1\n",
    "        if(insulin_durum == i):\n",
    "            insulin = insulinindeks[s]\n",
    "\n",
    "def vucutkitleindeksiduzenleme():\n",
    "    global vkitleindeks\n",
    "    vki_durum = float(vki_kutu.get())\n",
    "    s = -1\n",
    "    for i in vki:\n",
    "        s += 1\n",
    "        if(vki_durum == i):\n",
    "            vkitleindeks = vkiindeks[s]\n",
    "def soyagaciduzenleme():\n",
    "    global soyagaci\n",
    "    durum = float(soyagaci_kutu.get())\n",
    "    s = -1\n",
    "    for i in soyagacidurumu:\n",
    "        s += 1\n",
    "        if(durum == i):\n",
    "            soyagaci = soyagaciindeks[s]\n",
    "\n",
    "def yasduzenleme():\n",
    "    global yas\n",
    "    yas_durum = float(yas_kutu.get())\n",
    "    s = -1\n",
    "    for i in yasdurumu:\n",
    "        s += 1\n",
    "        if(yas_durum == i):\n",
    "            yas = yasindeks[s]\n",
    "            \n",
    "\n",
    "baslık_label = Label(pencere, text = \"ŞEKER\\n\\nHASTALIĞI\\n\\nTAHMİN\\n\\nPROGRAMI\", font=\"times 30\",borderwidth=10, padx = 0, pady = 170,\n",
    "                     background = \"#742a2a\", relief = \"ridge\",bg=\"#742a2a\",fg=\"white\")        \n",
    "baslık_label.place(x = 10 ,y = 10)\n",
    "\n",
    "\n",
    "# HAMİLELİK\n",
    "\n",
    "hamile_label = Label(text = \"Hamilelik sayısı\", font = \"times 18\", borderwidth=6, relief = \"sunken\", bg=\"#9b2c2c\",fg=\"white\")\n",
    "hamile_label.place(x = 300, y = 20)\n",
    "\n",
    "hamile_kutu = Combobox(pencere, values = hamileliksayisi)\n",
    "hamile_kutu.place(x = 300, y = 70)\n",
    "\n",
    "hamile_buton = Button(pencere, text = \"Seç\", command = hamileduzenleme, font = \"times 12\", borderwidth=6, relief = \"ridge\", bg=\"#fff5f5\",fg=\"#742a2a\")\n",
    "hamile_buton.place(x = 300, y = 120) \n",
    "\n",
    "# GLİKOZ\n",
    "\n",
    "glikoz_label = Label(text = \"Glikoz \", font = \"times 18\", borderwidth=6, relief = \"sunken\", bg=\"#9b2c2c\",fg=\"white\")\n",
    "glikoz_label.place(x = 550, y = 20)\n",
    "\n",
    "glikoz_kutu = Combobox(pencere, values = glikozdurumu)\n",
    "glikoz_kutu.place(x = 550, y = 70)\n",
    "\n",
    "glikoz_buton = Button(pencere, text = \"Seç\", command = glikozduzenleme, font = \"times 12\", borderwidth=6, relief = \"ridge\", bg=\"#fff5f5\",fg=\"#742a2a\")\n",
    "glikoz_buton.place(x = 550, y = 120) \n",
    "\n",
    "# KAN BASINCI\n",
    "\n",
    "kanbasinci_label = Label(text = \"Kan basıncı\", font = \"times 18\", borderwidth=6, relief = \"sunken\", bg=\"#9b2c2c\",fg=\"white\")\n",
    "kanbasinci_label.place(x = 800, y = 20)\n",
    "\n",
    "kanbasinci_kutu = Combobox(pencere, values = kanbasincidurumu)\n",
    "kanbasinci_kutu.place(x = 800, y = 70)\n",
    "\n",
    "kanbasinci_buton = Button(pencere, text = \"Seç\", command = kanbasinciduzenleme, font = \"times 12\", borderwidth=6, relief = \"ridge\", bg=\"#fff5f5\",fg=\"#742a2a\")\n",
    "kanbasinci_buton.place(x = 800, y = 120)\n",
    "\n",
    "# CİLT KALINLIĞI\n",
    "\n",
    "ciltdurumu_label = Label(text = \"Cilt kalınlığı\", font = \"times 18\", borderwidth=6, relief = \"sunken\", bg=\"#9b2c2c\",fg=\"white\")\n",
    "ciltdurumu_label.place(x = 300, y = 300)\n",
    "\n",
    "ciltdurumu_kutu = Combobox(pencere, values = ciltdurumu)\n",
    "ciltdurumu_kutu.place(x = 300, y = 350)\n",
    "\n",
    "ciltdurumu_buton = Button(pencere, text = \"Seç\", command = ciltduzenleme, font = \"times 12\", borderwidth=6, relief = \"ridge\", bg=\"#fff5f5\",fg=\"#742a2a\")\n",
    "ciltdurumu_buton.place(x = 300, y = 400) \n",
    "\n",
    "# INSULİN\n",
    "\n",
    "insulin_label = Label(text = \"Insulin\", font = \"times 18\", borderwidth=6, relief = \"sunken\", bg=\"#9b2c2c\",fg=\"white\")\n",
    "insulin_label.place(x = 550, y = 300)\n",
    "\n",
    "insulin_kutu = Combobox(pencere, values = insulindurumu)\n",
    "insulin_kutu.place(x = 550, y =350)\n",
    "\n",
    "insulin_buton = Button(pencere, text = \"Seç\", command = insulinduzenleme, font = \"times 12\", borderwidth=6, relief = \"ridge\", bg=\"#fff5f5\",fg=\"#742a2a\")\n",
    "insulin_buton.place(x = 550, y = 400)\n",
    "\n",
    "# VÜCUT KİTLE İNDEKSİ\n",
    "\n",
    "vki_label = Label(text = \"Vücut kitle indeksi\", font = \"times 18\", borderwidth=6, relief = \"sunken\", bg=\"#9b2c2c\",fg=\"white\")\n",
    "vki_label.place(x = 800, y = 300)\n",
    "\n",
    "vki_kutu = Combobox(pencere, values = vki)\n",
    "vki_kutu.place(x = 800, y =350)\n",
    "\n",
    "vki_buton = Button(pencere, text = \"Seç\", command = vucutkitleindeksiduzenleme, font = \"times 12\", borderwidth=6, relief = \"ridge\", bg=\"#fff5f5\",fg=\"#742a2a\")\n",
    "vki_buton.place(x = 800, y = 400)\n",
    "\n",
    "# SOYAĞACI\n",
    "\n",
    "soyagaci_label = Label(text = \"Aile hastalık oranı\", font = \"times 18\", borderwidth=6, relief = \"sunken\", bg=\"#9b2c2c\",fg=\"white\")\n",
    "soyagaci_label.place(x = 1050, y = 300)\n",
    "\n",
    "soyagaci_kutu = Combobox(pencere, values = soyagacidurumu)\n",
    "soyagaci_kutu.place(x = 1050, y =350)\n",
    "\n",
    "soyagaci_buton = Button(pencere, text = \"Seç\", command = soyagaciduzenleme, font = \"times 12\", borderwidth=6, relief = \"ridge\", bg=\"#fff5f5\",fg=\"#742a2a\")\n",
    "soyagaci_buton.place(x = 1050, y = 400)\n",
    "\n",
    "# KAN BASINCI\n",
    "\n",
    "yas_label = Label(text = \"Yaş\", font = \"times 18\", borderwidth=6, relief = \"sunken\", bg=\"#9b2c2c\",fg=\"white\")\n",
    "yas_label.place(x = 1050, y = 20)\n",
    "\n",
    "yas_kutu = Combobox(pencere, values = yasdurumu)\n",
    "yas_kutu.place(x = 1050, y = 70)\n",
    "\n",
    "yas_buton = Button(pencere, text = \"Seç\", command = yasduzenleme, font = \"times 12\", borderwidth=6, relief = \"ridge\", bg=\"#fff5f5\",fg=\"#742a2a\")\n",
    "yas_buton.place(x = 1050, y = 120)\n",
    "\n",
    "\n",
    "def hesapla():\n",
    "    yeni_veri = [[hamile], [glikoz], [kanbasinci], [cilt], [insulin], [vkitleindeks], [soyagaci], [yas]]  \n",
    "    yeni_veri = pd.DataFrame(yeni_veri).T\n",
    "\n",
    "    df_2 = yeni_veri.rename(columns = {0:\"HamilelikDurumu\",\n",
    "                        1:\"Glikoz\",\n",
    "                        2:\"KanBasinci\",\n",
    "                        3:\"CiltKalinligi\",\n",
    "                        4:\"Insulin\",\n",
    "                        5:\"VKIndeksi\",\n",
    "                        6:\"SoyagaciIslevi\",\n",
    "                        7:\"Yas\"\n",
    "                    })\n",
    "    \n",
    "    \n",
    "    pred = tuned.predict(df_2)\n",
    "    \n",
    "    pred = float(pred)\n",
    "    if pred == 0:\n",
    "        s2 = Label(pencere, text = \"Şeker hastası değilsiniz.\", font=\"times 15\",borderwidth=6, padx = 160, pady = 80)\n",
    "        s2.place(x = 800, y = 500)\n",
    "    elif pred == 1:\n",
    "        s2 = Label(pencere, text = \"Şeker hastası olabilirsiniz.\\nLütfen en yakın sağlık kuruluşuna başvurunuz.\", font=\"times 15\",borderwidth=6, padx = 80, pady = 65)\n",
    "        s2.place(x = 800, y = 500)\n",
    "    else:\n",
    "        s2 = Label(pencere, text = \"Tanı Konulamadı\", font=\"times 15\",borderwidth=6, padx = 150, pady = 80)\n",
    "        s2.place(x = 800, y = 500)\n",
    "\n",
    "\n",
    "# HESAPLA\n",
    "hesapla_buton = Button(pencere, text = \"HESAPLA\", command = hesapla, font=\"times 20\",borderwidth=30, padx = 10, pady = 40, background = \"#f7fafc\",bg=\"#fff5f5\",fg=\"#742a2a\", relief = \"sunken\")\n",
    "hesapla_buton.place(x = 300, y = 500)\n",
    "\n",
    "s1 = Label(pencere, text= \"\" , font=\"times 15\",borderwidth=6, padx = 250, pady = 80, bg=\"#742a2a\",fg=\"#742a2a\", relief = \"ridge\")\n",
    "s1.place(x = 800, y = 500)\n",
    "\n",
    "s2 = Label(pencere, text= \" -----\" , font=\"times 80\",borderwidth=6, padx = 10, pady = 10, bg=\"#742a2a\",fg=\"white\")\n",
    "s2.place(x = 530, y = 500)\n",
    "\n",
    "hakkımda_label = Label(pencere, text = \"HEDİYE ORHAN\", font = \"times 15\", borderwidth = 20, relief = \"sunken\",bg=\"#742a2a\",fg=\"white\")\n",
    "hakkımda_label.place(x = 30, y = 20)\n",
    "\n",
    "mainloop()"
   ]
  },
  {
   "cell_type": "code",
   "execution_count": null,
   "metadata": {},
   "outputs": [],
   "source": []
  }
 ],
 "metadata": {
  "kernelspec": {
   "display_name": "Python 3",
   "language": "python",
   "name": "python3"
  },
  "language_info": {
   "codemirror_mode": {
    "name": "ipython",
    "version": 3
   },
   "file_extension": ".py",
   "mimetype": "text/x-python",
   "name": "python",
   "nbconvert_exporter": "python",
   "pygments_lexer": "ipython3",
   "version": "3.8.5"
  }
 },
 "nbformat": 4,
 "nbformat_minor": 4
}
